{
  "nbformat": 4,
  "nbformat_minor": 0,
  "metadata": {
    "colab": {
      "provenance": []
    },
    "kernelspec": {
      "name": "python3",
      "display_name": "Python 3"
    },
    "language_info": {
      "name": "python"
    }
  },
  "cells": [
    {
      "cell_type": "markdown",
      "source": [
        "The Next Word Prediction program is a simple text generation application that utilizes a basic n-gram language model to predict the next word in a given sequence of words. The program is designed to take user input, analyze the context of the input, and provide a probabilistic prediction of the most likely word to follow. The core idea behind this program is to use the statistical patterns observed in a training text to make educated guesses about the next word in a sequence."
      ],
      "metadata": {
        "id": "nqodtggDpG_o"
      }
    },
    {
      "cell_type": "code",
      "execution_count": 1,
      "metadata": {
        "id": "_QgdQS_BnIXM"
      },
      "outputs": [],
      "source": [
        "# Import necessary libraries\n",
        "import re\n",
        "import random\n",
        "import tensorflow\n",
        "import keras"
      ]
    },
    {
      "cell_type": "code",
      "source": [
        "# Read the file which contains general sentences with special symbols\n",
        "with open(\"/content/1661-0 (1).txt\", \"r\", encoding=\"utf-8\") as file:\n",
        "    text_data = file.read()"
      ],
      "metadata": {
        "id": "fy3oYKcKndHc"
      },
      "execution_count": 2,
      "outputs": []
    },
    {
      "cell_type": "code",
      "source": [
        "def preprocess_text(text):\n",
        "    text = re.sub(r\"[^a-zA-Z0-9\\s]\", \"\", text)\n",
        "    text = text.lower()\n",
        "    return text"
      ],
      "metadata": {
        "id": "VgsBRfAkni77"
      },
      "execution_count": 3,
      "outputs": []
    },
    {
      "cell_type": "code",
      "source": [
        "preprocessed_text = preprocess_text(text_data)\n",
        "words = preprocessed_text.split()"
      ],
      "metadata": {
        "id": "bTP-hPhvnlnk"
      },
      "execution_count": 4,
      "outputs": []
    },
    {
      "cell_type": "code",
      "source": [
        "# Build n-gram frequencies\n",
        "def build_ngram_frequencies(words, n):\n",
        "    ngrams = {}\n",
        "    for i in range(len(words) - n):\n",
        "        ngram = tuple(words[i:i+n])\n",
        "        next_word = words[i+n]\n",
        "        if ngram in ngrams:\n",
        "            ngrams[ngram].append(next_word)\n",
        "        else:\n",
        "            ngrams[ngram] = [next_word]\n",
        "    return ngrams"
      ],
      "metadata": {
        "id": "KefgB8JqnoSK"
      },
      "execution_count": 5,
      "outputs": []
    },
    {
      "cell_type": "code",
      "source": [
        "ngram_order = 2  # Change this to the desired n-gram order\n",
        "ngram_frequencies = build_ngram_frequencies(words, ngram_order)"
      ],
      "metadata": {
        "id": "1hVW2MJMnrHC"
      },
      "execution_count": 6,
      "outputs": []
    },
    {
      "cell_type": "code",
      "source": [
        "# Predict the next word based on user input\n",
        "def predict_next_word(user_input):\n",
        "    user_input = preprocess_text(user_input)\n",
        "    user_words = user_input.split()\n",
        "\n",
        "    if len(user_words) < ngram_order:\n",
        "        return \"Input more words to predict\"\n",
        "\n",
        "    ngram = tuple(user_words[-ngram_order:])\n",
        "    if ngram in ngram_frequencies:\n",
        "        next_word_candidates = ngram_frequencies[ngram]\n",
        "        next_word = random.choice(next_word_candidates)\n",
        "        return next_word\n",
        "    else:\n",
        "        return \"No prediction available\""
      ],
      "metadata": {
        "id": "ktTODUDNnuVV"
      },
      "execution_count": 7,
      "outputs": []
    },
    {
      "cell_type": "code",
      "source": [
        "# User interaction loop\n",
        "while True:\n",
        "    user_input = input(\"Enter a few words: \")\n",
        "    if user_input.lower() == \"exit\":\n",
        "        break\n",
        "    predicted_word = predict_next_word(user_input)\n",
        "    print(\"Predicted next word:\", predicted_word)"
      ],
      "metadata": {
        "colab": {
          "base_uri": "https://localhost:8080/"
        },
        "id": "Xz3kmkjwnxWC",
        "outputId": "b69da77c-de4b-4c0a-ac02-25cdccd36900"
      },
      "execution_count": 8,
      "outputs": [
        {
          "name": "stdout",
          "output_type": "stream",
          "text": [
            "Enter a few words: the\n",
            "Predicted next word: Input more words to predict\n",
            "Enter a few words: yes\n",
            "Predicted next word: Input more words to predict\n",
            "Enter a few words: Title: The Adventures of Sherlock Holmes\n",
            "Predicted next word: alone\n",
            "Enter a few words: Arthur Conan \n",
            "Predicted next word: doyle\n",
            "Enter a few words: Produced by an anonymous\n",
            "Predicted next word: project\n",
            "Enter a few words: You may copy\n",
            "Predicted next word: it\n",
            "Enter a few words: exit\n"
          ]
        }
      ]
    },
    {
      "cell_type": "code",
      "source": [],
      "metadata": {
        "id": "yNviL-nXn0Fc"
      },
      "execution_count": null,
      "outputs": []
    }
  ]
}